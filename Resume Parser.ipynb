{
 "cells": [
  {
   "cell_type": "markdown",
   "id": "50084125",
   "metadata": {},
   "source": [
    "# Imported libraries"
   ]
  },
  {
   "cell_type": "code",
   "execution_count": 1,
   "id": "08ccb18e",
   "metadata": {
    "scrolled": true
   },
   "outputs": [],
   "source": [
    "import spacy\n",
    "import nlp\n",
    "import PyPDF2\n",
    "import textract\n",
    "import matplotlib.pyplot as plt\n",
    "import re\n",
    "import docx\n",
    "import nltk\n",
    "from spacy import displacy\n",
    "from textblob import TextBlob\n",
    "from collections import Counter\n",
    "from nltk.corpus import stopwords\n",
    "from nltk.tokenize import word_tokenize\n",
    "from vaderSentiment.vaderSentiment import SentimentIntensityAnalyzer"
   ]
  },
  {
   "cell_type": "markdown",
   "id": "8e8b79d2",
   "metadata": {},
   "source": [
    "# Classification of content"
   ]
  },
  {
   "cell_type": "code",
   "execution_count": 2,
   "id": "e282063b",
   "metadata": {},
   "outputs": [],
   "source": [
    "# Define the categories to classify the content\n",
    "categories = ['Skills', 'Education', 'Experience', 'Certifications']\n",
    "\n",
    "# Initialize a dictionary to store the classified content\n",
    "classified_content = {category: [] for category in categories}"
   ]
  },
  {
   "cell_type": "markdown",
   "id": "4db26320",
   "metadata": {},
   "source": [
    "# Read the Resume file"
   ]
  },
  {
   "cell_type": "code",
   "execution_count": 3,
   "id": "0591f603",
   "metadata": {},
   "outputs": [
    {
     "name": "stdout",
     "output_type": "stream",
     "text": [
      "Enter the name of the resume file : GOKUL_PRASANTH'S_RESUME gokul63808@gmail.com.pdf\n"
     ]
    }
   ],
   "source": [
    "file_name=input(\"Enter the name of the resume file : \")\n",
    "file_extension=file_name.split(\".\")[-1]"
   ]
  },
  {
   "cell_type": "markdown",
   "id": "35b24c2b",
   "metadata": {},
   "source": [
    "# Read the resume content"
   ]
  },
  {
   "cell_type": "code",
   "execution_count": 4,
   "id": "99be2af7",
   "metadata": {},
   "outputs": [
    {
     "name": "stdout",
     "output_type": "stream",
     "text": [
      "Enter the name of the resume file: GOKUL_PRASANTH'S_RESUME gokul63808@gmail.com.pdf\n"
     ]
    }
   ],
   "source": [
    "file_name = input(\"Enter the name of the resume file: \")\n",
    "file_extension = file_name.split(\".\")[-1]\n",
    "\n",
    "if file_extension == \"txt\":\n",
    "    with open(file_name, 'r') as f:\n",
    "        resume_content = f.read()\n",
    "elif file_extension == \"docx\":\n",
    "    doc = docx.Document(file_name)\n",
    "    resume_content = \"\"\n",
    "    for para in doc.paragraphs:\n",
    "        resume_content += para.text\n",
    "elif file_extension == \"pdf\":\n",
    "    pdf_file = open(file_name, 'rb')\n",
    "    pdf_reader = PyPDF2.PdfReader(pdf_file)\n",
    "    resume_content = \"\"\n",
    "    for page in range(len(pdf_reader.pages)):\n",
    "        resume_content += pdf_reader.pages[page].extract_text()\n",
    "else:\n",
    "    print(\"Invalid file format. Only txt, docx and pdf files are supported.\")\n",
    "    exit()"
   ]
  },
  {
   "cell_type": "markdown",
   "id": "6ea78033",
   "metadata": {},
   "source": [
    "# Model Building"
   ]
  },
  {
   "cell_type": "code",
   "execution_count": 5,
   "id": "7ffba361",
   "metadata": {},
   "outputs": [
    {
     "name": "stdout",
     "output_type": "stream",
     "text": [
      "Classified Content:\n",
      "{'Skills': [], 'Education': [], 'Experience': [], 'Certifications': []}\n"
     ]
    }
   ],
   "source": [
    "# Load the spacy model\n",
    "nlp = spacy.load('en_core_web_sm')\n",
    "\n",
    "# Process the resume content using the spacy model\n",
    "doc = nlp(resume_content)\n",
    "\n",
    "# Iterate through the entities in the resume and classify them\n",
    "for ent in doc.ents:\n",
    "    if ent.label_ == 'Skills':\n",
    "        classified_content['Skills'].append(ent.text)\n",
    "    elif ent.label_ == 'Education':\n",
    "        classified_content['Education'].append(ent.text)\n",
    "    elif ent.label_ == 'Professional Experience':\n",
    "        classified_content['Experience'].append(ent.text)\n",
    "    elif ent.label_ == 'Certifications':\n",
    "        classified_content['Certifications'].append(ent.text)\n",
    "\n",
    "# Print the classified content\n",
    "print(\"Classified Content:\")\n",
    "print(classified_content)\n"
   ]
  },
  {
   "cell_type": "markdown",
   "id": "0829ed7c",
   "metadata": {},
   "source": [
    "# Model Evaluation"
   ]
  },
  {
   "cell_type": "code",
   "execution_count": 6,
   "id": "80780e48",
   "metadata": {},
   "outputs": [
    {
     "name": "stdout",
     "output_type": "stream",
     "text": [
      "\n",
      "Top 20 Words and their Alternatives:\n",
      ", - 1.0\n",
      ". - 1.0\n",
      "• - 1.0\n",
      " - 1.0\n",
      "- - 1.0\n",
      "data - 1.0\n",
      "IoT - 1.0\n",
      ": - 1.0\n",
      "Data - 1.0\n",
      "( - 1.0\n",
      ") - 1.0\n",
      "Intern - 1.0\n",
      "learned - 1.0\n",
      "2022 - 1.0\n",
      "Artificial - 1.0\n",
      "Intelligence - 1.0\n",
      "Remote - 1.0\n",
      "Training - 1.0\n",
      "computer - 1.0\n",
      "science - 1.0\n",
      "0.031105169340463455\n"
     ]
    }
   ],
   "source": [
    "# Get the top 10 most common words in the resume\n",
    "stop_words = set(stopwords.words(\"english\"))\n",
    "words = word_tokenize(resume_content)\n",
    "filtered_words = [word for word in words if word.lower() not in stop_words]\n",
    "word_freq = Counter(filtered_words)\n",
    "top_10_words = word_freq.most_common(20)\n",
    "\n",
    "# Print the top 10 most common words and their alternatives\n",
    "print(\"\\nTop 20 Words and their Alternatives:\")\n",
    "for word, freq in top_10_words:\n",
    "    print(f\"{word} - {nlp(word).similarity(nlp(word))}\")\n",
    "blob=TextBlob(resume_content)\n",
    "print(blob.sentiment.polarity)"
   ]
  },
  {
   "cell_type": "markdown",
   "id": "e4452680",
   "metadata": {},
   "source": [
    "# Sentiment Analysis"
   ]
  },
  {
   "cell_type": "code",
   "execution_count": 7,
   "id": "90c21220",
   "metadata": {},
   "outputs": [
    {
     "name": "stdout",
     "output_type": "stream",
     "text": [
      "Overall sentiment dictionary is :  {'neg': 0.011, 'neu': 0.873, 'pos': 0.115, 'compound': 0.9962}\n",
      "Resume was rated as  1.1 % Negative\n",
      "Resume was rated as  87.3 % Neutral\n",
      "Resume was rated as  11.5 % Positive\n",
      "Resume Overall Rated As Positive\n"
     ]
    }
   ],
   "source": [
    "def sentiment_scores(resume):\n",
    " \n",
    "    # Create a SentimentIntensityAnalyzer object.\n",
    "    sid_obj = SentimentIntensityAnalyzer()\n",
    " \n",
    "    # polarity_scores method of SentimentIntensityAnalyzer\n",
    "    # object gives a sentiment dictionary.\n",
    "    # which contains pos, neg, neu, and compound scores.\n",
    "    sentiment_dict = sid_obj.polarity_scores(resume_content)\n",
    "     \n",
    "    print(\"Overall sentiment dictionary is : \", sentiment_dict)\n",
    "    print(\"Resume was rated as \", round(sentiment_dict['neg']*100,2), \"% Negative\")\n",
    "    print(\"Resume was rated as \", round(sentiment_dict['neu']*100,2), \"% Neutral\")\n",
    "    print(\"Resume was rated as \", round(sentiment_dict['pos']*100,2), \"% Positive\")\n",
    " \n",
    "    print(\"Resume Overall Rated As\", end = \" \")\n",
    " \n",
    "    # decide sentiment as positive, negative and neutral\n",
    "    if sentiment_dict['compound'] >= 0.05 :\n",
    "        print(\"Positive\")\n",
    " \n",
    "    elif sentiment_dict['compound'] <= - 0.05 :\n",
    "        print(\"Negative\")\n",
    " \n",
    "    else :\n",
    "        print(\"Neutral\")\n",
    "sentiment_scores(resume_content)"
   ]
  }
 ],
 "metadata": {
  "kernelspec": {
   "display_name": "Python 3 (ipykernel)",
   "language": "python",
   "name": "python3"
  },
  "language_info": {
   "codemirror_mode": {
    "name": "ipython",
    "version": 3
   },
   "file_extension": ".py",
   "mimetype": "text/x-python",
   "name": "python",
   "nbconvert_exporter": "python",
   "pygments_lexer": "ipython3",
   "version": "3.9.13"
  }
 },
 "nbformat": 4,
 "nbformat_minor": 5
}
